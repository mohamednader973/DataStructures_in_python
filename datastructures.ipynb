{
  "nbformat": 4,
  "nbformat_minor": 0,
  "metadata": {
    "colab": {
      "name": "Untitled1.ipynb",
      "provenance": [],
      "authorship_tag": "ABX9TyOCYT+LAir0VeuWBxK/1KB4",
      "include_colab_link": true
    },
    "kernelspec": {
      "name": "python3",
      "display_name": "Python 3"
    }
  },
  "cells": [
    {
      "cell_type": "markdown",
      "metadata": {
        "id": "view-in-github",
        "colab_type": "text"
      },
      "source": [
        "<a href=\"https://colab.research.google.com/github/mohamednader973/DataStructures_in_python/blob/main/datastructures.ipynb\" target=\"_parent\"><img src=\"https://colab.research.google.com/assets/colab-badge.svg\" alt=\"Open In Colab\"/></a>"
      ]
    },
    {
      "cell_type": "markdown",
      "metadata": {
        "id": "rGjf655mWMVC"
      },
      "source": [
        "Data structures in python"
      ]
    },
    {
      "cell_type": "markdown",
      "metadata": {
        "id": "cO6tcBsKWo5e"
      },
      "source": [
        "first: Tuples"
      ]
    },
    {
      "cell_type": "code",
      "metadata": {
        "id": "adrMT-PZWKFv"
      },
      "source": [
        "Tuple1=(1,2,3,\"pyhton\",5,\"c++\")"
      ],
      "execution_count": null,
      "outputs": []
    },
    {
      "cell_type": "code",
      "metadata": {
        "colab": {
          "base_uri": "https://localhost:8080/"
        },
        "id": "-Snr3JVEW3KC",
        "outputId": "5980316a-620e-4431-c0b8-190a23de9717"
      },
      "source": [
        "Tuple1[0]"
      ],
      "execution_count": null,
      "outputs": [
        {
          "output_type": "execute_result",
          "data": {
            "text/plain": [
              "1"
            ]
          },
          "metadata": {
            "tags": []
          },
          "execution_count": 2
        }
      ]
    },
    {
      "cell_type": "code",
      "metadata": {
        "colab": {
          "base_uri": "https://localhost:8080/",
          "height": 35
        },
        "id": "z1cgud56XBE0",
        "outputId": "475dc0a8-f419-4c43-d7dc-7e3095b431c6"
      },
      "source": [
        "Tuple1[-1]"
      ],
      "execution_count": null,
      "outputs": [
        {
          "output_type": "execute_result",
          "data": {
            "application/vnd.google.colaboratory.intrinsic+json": {
              "type": "string"
            },
            "text/plain": [
              "'c++'"
            ]
          },
          "metadata": {
            "tags": []
          },
          "execution_count": 3
        }
      ]
    },
    {
      "cell_type": "markdown",
      "metadata": {
        "id": "VHBfQpjEXIAG"
      },
      "source": [
        "Tuples concatentation"
      ]
    },
    {
      "cell_type": "code",
      "metadata": {
        "colab": {
          "base_uri": "https://localhost:8080/"
        },
        "id": "sn3wLzRbXM3z",
        "outputId": "3f76ba32-0f76-489b-e14e-88b9b895a315"
      },
      "source": [
        "Tuple2=Tuple1+(234,\"java\")\r\n",
        "Tuple2"
      ],
      "execution_count": null,
      "outputs": [
        {
          "output_type": "execute_result",
          "data": {
            "text/plain": [
              "(1, 2, 3, 'pyhton', 5, 'c++', 234, 'java')"
            ]
          },
          "metadata": {
            "tags": []
          },
          "execution_count": 5
        }
      ]
    },
    {
      "cell_type": "markdown",
      "metadata": {
        "id": "1DC4_owiXusv"
      },
      "source": [
        "length of a Tuple"
      ]
    },
    {
      "cell_type": "code",
      "metadata": {
        "colab": {
          "base_uri": "https://localhost:8080/"
        },
        "id": "Cb25SbwTXzBO",
        "outputId": "82180bda-b34f-40f0-cb2d-3ac0fc1bff82"
      },
      "source": [
        "len(Tuple2)"
      ],
      "execution_count": null,
      "outputs": [
        {
          "output_type": "execute_result",
          "data": {
            "text/plain": [
              "8"
            ]
          },
          "metadata": {
            "tags": []
          },
          "execution_count": 8
        }
      ]
    },
    {
      "cell_type": "markdown",
      "metadata": {
        "id": "XAHd-Z4_XeHX"
      },
      "source": [
        "slicing"
      ]
    },
    {
      "cell_type": "code",
      "metadata": {
        "colab": {
          "base_uri": "https://localhost:8080/"
        },
        "id": "caauMfsZXdOI",
        "outputId": "7fa1c95c-59f9-4789-aa07-8e0fd690bf07"
      },
      "source": [
        "Tuple2[1:4]"
      ],
      "execution_count": null,
      "outputs": [
        {
          "output_type": "execute_result",
          "data": {
            "text/plain": [
              "(2, 3, 'pyhton')"
            ]
          },
          "metadata": {
            "tags": []
          },
          "execution_count": 6
        }
      ]
    },
    {
      "cell_type": "markdown",
      "metadata": {
        "id": "U4LFw77cYwLB"
      },
      "source": [
        "Tuples are immutable\r\n",
        "Tuple1[0]=7 xxxxxxxxxxxxxxxxxxxxxxxxxxxxx"
      ]
    },
    {
      "cell_type": "markdown",
      "metadata": {
        "id": "lZ1H4dHlY771"
      },
      "source": [
        "ordering of a Tuple"
      ]
    },
    {
      "cell_type": "code",
      "metadata": {
        "colab": {
          "base_uri": "https://localhost:8080/"
        },
        "id": "EI6rFNqpYBHH",
        "outputId": "ae505cd9-6d9d-4622-bf56-b9de90e90464"
      },
      "source": [
        "Tuple3=(5,6,7,3,1,4,2,9,8)\r\n",
        "sorted(Tuple3)"
      ],
      "execution_count": null,
      "outputs": [
        {
          "output_type": "execute_result",
          "data": {
            "text/plain": [
              "[1, 2, 3, 4, 5, 6, 7, 8, 9]"
            ]
          },
          "metadata": {
            "tags": []
          },
          "execution_count": 11
        }
      ]
    },
    {
      "cell_type": "markdown",
      "metadata": {
        "id": "nHd3tGajZ3jn"
      },
      "source": [
        "Tuples nesting"
      ]
    },
    {
      "cell_type": "code",
      "metadata": {
        "colab": {
          "base_uri": "https://localhost:8080/",
          "height": 35
        },
        "id": "56r4teuYZ5_T",
        "outputId": "70cf6895-9078-4cd2-e468-0ae2f8a0722e"
      },
      "source": [
        "Tuple4=(1,4,6,(\"name\",4,8),7,(\"age\",234,14))\r\n",
        "Tuple4[3][0]"
      ],
      "execution_count": null,
      "outputs": [
        {
          "output_type": "execute_result",
          "data": {
            "application/vnd.google.colaboratory.intrinsic+json": {
              "type": "string"
            },
            "text/plain": [
              "'name'"
            ]
          },
          "metadata": {
            "tags": []
          },
          "execution_count": 13
        }
      ]
    },
    {
      "cell_type": "markdown",
      "metadata": {
        "id": "mwSYSjr1agg8"
      },
      "source": [
        "**Lists**"
      ]
    },
    {
      "cell_type": "code",
      "metadata": {
        "colab": {
          "base_uri": "https://localhost:8080/"
        },
        "id": "zZMH4nZQanBB",
        "outputId": "56ea8f1e-5867-45ad-bc75-840154a89de1"
      },
      "source": [
        "list1=[10,12,45,9,\"physics\",[\"math\",\"chemistry\",46,78],123]\r\n",
        "list1[1]"
      ],
      "execution_count": null,
      "outputs": [
        {
          "output_type": "execute_result",
          "data": {
            "text/plain": [
              "12"
            ]
          },
          "metadata": {
            "tags": []
          },
          "execution_count": 14
        }
      ]
    },
    {
      "cell_type": "code",
      "metadata": {
        "colab": {
          "base_uri": "https://localhost:8080/",
          "height": 35
        },
        "id": "SazK9Mn1a5fW",
        "outputId": "f1ab6ce1-384a-4b4f-db00-8405e0418bfc"
      },
      "source": [
        "list1[5][1]"
      ],
      "execution_count": null,
      "outputs": [
        {
          "output_type": "execute_result",
          "data": {
            "application/vnd.google.colaboratory.intrinsic+json": {
              "type": "string"
            },
            "text/plain": [
              "'chemistry'"
            ]
          },
          "metadata": {
            "tags": []
          },
          "execution_count": 15
        }
      ]
    },
    {
      "cell_type": "markdown",
      "metadata": {
        "id": "c3TpwEc6bAjE"
      },
      "source": [
        "Lists are mutuable"
      ]
    },
    {
      "cell_type": "code",
      "metadata": {
        "colab": {
          "base_uri": "https://localhost:8080/"
        },
        "id": "9UgTjllfbAXf",
        "outputId": "102e6f6e-282d-4942-b8ae-8ab52d9c7cb8"
      },
      "source": [
        "list1[1]=\"social studies\"\r\n",
        "list1"
      ],
      "execution_count": null,
      "outputs": [
        {
          "output_type": "execute_result",
          "data": {
            "text/plain": [
              "[10, 'social studies', 45, 9, 'physics', ['math', 'chemistry', 46, 78], 123]"
            ]
          },
          "metadata": {
            "tags": []
          },
          "execution_count": 17
        }
      ]
    },
    {
      "cell_type": "code",
      "metadata": {
        "colab": {
          "base_uri": "https://localhost:8080/"
        },
        "id": "g3KIaHRhbj9E",
        "outputId": "f8b128d4-9dff-4f7d-d3a7-45815ab0af3b"
      },
      "source": [
        "list1[0:3]"
      ],
      "execution_count": null,
      "outputs": [
        {
          "output_type": "execute_result",
          "data": {
            "text/plain": [
              "[10, 'social studies', 45]"
            ]
          },
          "metadata": {
            "tags": []
          },
          "execution_count": 18
        }
      ]
    },
    {
      "cell_type": "code",
      "metadata": {
        "colab": {
          "base_uri": "https://localhost:8080/"
        },
        "id": "1F9nQEb0bst1",
        "outputId": "f233db39-4120-4cbb-bf04-4c83b00f6d2b"
      },
      "source": [
        "list2=list1+[\"English\",4,7]\r\n",
        "list2"
      ],
      "execution_count": null,
      "outputs": [
        {
          "output_type": "execute_result",
          "data": {
            "text/plain": [
              "[10,\n",
              " 'social studies',\n",
              " 45,\n",
              " 9,\n",
              " 'physics',\n",
              " ['math', 'chemistry', 46, 78],\n",
              " 123,\n",
              " 'English',\n",
              " 4,\n",
              " 7]"
            ]
          },
          "metadata": {
            "tags": []
          },
          "execution_count": 20
        }
      ]
    },
    {
      "cell_type": "markdown",
      "metadata": {
        "id": "3EOrDRi2cBn6"
      },
      "source": [
        "extend method"
      ]
    },
    {
      "cell_type": "code",
      "metadata": {
        "colab": {
          "base_uri": "https://localhost:8080/"
        },
        "id": "NLzu1SJacEaA",
        "outputId": "e425eeea-8675-464e-b912-9423111e3733"
      },
      "source": [
        "list2.extend([82537825,\"German\"])\r\n",
        "list2"
      ],
      "execution_count": null,
      "outputs": [
        {
          "output_type": "execute_result",
          "data": {
            "text/plain": [
              "[10,\n",
              " 'social studies',\n",
              " 45,\n",
              " 9,\n",
              " 'physics',\n",
              " ['math', 'chemistry', 46, 78],\n",
              " 123,\n",
              " 'English',\n",
              " 4,\n",
              " 7,\n",
              " 82537825,\n",
              " 'German',\n",
              " 82537825,\n",
              " 'German']"
            ]
          },
          "metadata": {
            "tags": []
          },
          "execution_count": 23
        }
      ]
    },
    {
      "cell_type": "markdown",
      "metadata": {
        "id": "CyKOQeN5ctvk"
      },
      "source": [
        "append add the data as an inner list (nesting)"
      ]
    },
    {
      "cell_type": "code",
      "metadata": {
        "colab": {
          "base_uri": "https://localhost:8080/"
        },
        "id": "if8SWOp6cbJ1",
        "outputId": "ebbf7678-4906-48ee-e0c2-397928eacf77"
      },
      "source": [
        "list2.append([123,\"french\"])\r\n",
        "list2"
      ],
      "execution_count": null,
      "outputs": [
        {
          "output_type": "execute_result",
          "data": {
            "text/plain": [
              "[10,\n",
              " 'social studies',\n",
              " 45,\n",
              " 9,\n",
              " 'physics',\n",
              " ['math', 'chemistry', 46, 78],\n",
              " 123,\n",
              " 'English',\n",
              " 4,\n",
              " 7,\n",
              " 82537825,\n",
              " 'German',\n",
              " 82537825,\n",
              " 'German',\n",
              " [123, 'french'],\n",
              " [123, 'french'],\n",
              " [123, 'french']]"
            ]
          },
          "metadata": {
            "tags": []
          },
          "execution_count": 26
        }
      ]
    },
    {
      "cell_type": "code",
      "metadata": {
        "colab": {
          "base_uri": "https://localhost:8080/"
        },
        "id": "9-Jksz6mc2wc",
        "outputId": "6fbe3741-bbc3-4a4a-8d22-cbc869e2be4b"
      },
      "source": [
        "del(list2[-1])\r\n",
        "list2"
      ],
      "execution_count": null,
      "outputs": [
        {
          "output_type": "execute_result",
          "data": {
            "text/plain": [
              "[10,\n",
              " 'social studies',\n",
              " 45,\n",
              " 9,\n",
              " 'physics',\n",
              " ['math', 'chemistry', 46, 78],\n",
              " 123,\n",
              " 'English',\n",
              " 4,\n",
              " 7,\n",
              " 82537825,\n",
              " 'German',\n",
              " 82537825,\n",
              " 'German',\n",
              " [123, 'french']]"
            ]
          },
          "metadata": {
            "tags": []
          },
          "execution_count": 28
        }
      ]
    },
    {
      "cell_type": "markdown",
      "metadata": {
        "id": "6OJjZ917d62u"
      },
      "source": [
        "Lists cloning"
      ]
    },
    {
      "cell_type": "code",
      "metadata": {
        "colab": {
          "base_uri": "https://localhost:8080/"
        },
        "id": "VVTW8JlsdxHk",
        "outputId": "475845e4-82a0-45f1-fc0f-d87fb79cb2b0"
      },
      "source": [
        "B=list2[:]\r\n",
        "B"
      ],
      "execution_count": null,
      "outputs": [
        {
          "output_type": "execute_result",
          "data": {
            "text/plain": [
              "[10,\n",
              " 'social studies',\n",
              " 45,\n",
              " 9,\n",
              " 'physics',\n",
              " ['math', 'chemistry', 46, 78],\n",
              " 123,\n",
              " 'English',\n",
              " 4,\n",
              " 7,\n",
              " 82537825,\n",
              " 'German',\n",
              " 82537825,\n",
              " 'German',\n",
              " [123, 'french']]"
            ]
          },
          "metadata": {
            "tags": []
          },
          "execution_count": 30
        }
      ]
    },
    {
      "cell_type": "markdown",
      "metadata": {
        "id": "jL9rJm1neGG5"
      },
      "source": [
        "help for each data structure"
      ]
    },
    {
      "cell_type": "code",
      "metadata": {
        "colab": {
          "base_uri": "https://localhost:8080/"
        },
        "id": "FNhgzMkfeBtM",
        "outputId": "177198d1-20bc-437b-8e97-33a9d45d66a4"
      },
      "source": [
        "help(B)"
      ],
      "execution_count": null,
      "outputs": [
        {
          "output_type": "stream",
          "text": [
            "Help on list object:\n",
            "\n",
            "class list(object)\n",
            " |  list() -> new empty list\n",
            " |  list(iterable) -> new list initialized from iterable's items\n",
            " |  \n",
            " |  Methods defined here:\n",
            " |  \n",
            " |  __add__(self, value, /)\n",
            " |      Return self+value.\n",
            " |  \n",
            " |  __contains__(self, key, /)\n",
            " |      Return key in self.\n",
            " |  \n",
            " |  __delitem__(self, key, /)\n",
            " |      Delete self[key].\n",
            " |  \n",
            " |  __eq__(self, value, /)\n",
            " |      Return self==value.\n",
            " |  \n",
            " |  __ge__(self, value, /)\n",
            " |      Return self>=value.\n",
            " |  \n",
            " |  __getattribute__(self, name, /)\n",
            " |      Return getattr(self, name).\n",
            " |  \n",
            " |  __getitem__(...)\n",
            " |      x.__getitem__(y) <==> x[y]\n",
            " |  \n",
            " |  __gt__(self, value, /)\n",
            " |      Return self>value.\n",
            " |  \n",
            " |  __iadd__(self, value, /)\n",
            " |      Implement self+=value.\n",
            " |  \n",
            " |  __imul__(self, value, /)\n",
            " |      Implement self*=value.\n",
            " |  \n",
            " |  __init__(self, /, *args, **kwargs)\n",
            " |      Initialize self.  See help(type(self)) for accurate signature.\n",
            " |  \n",
            " |  __iter__(self, /)\n",
            " |      Implement iter(self).\n",
            " |  \n",
            " |  __le__(self, value, /)\n",
            " |      Return self<=value.\n",
            " |  \n",
            " |  __len__(self, /)\n",
            " |      Return len(self).\n",
            " |  \n",
            " |  __lt__(self, value, /)\n",
            " |      Return self<value.\n",
            " |  \n",
            " |  __mul__(self, value, /)\n",
            " |      Return self*value.\n",
            " |  \n",
            " |  __ne__(self, value, /)\n",
            " |      Return self!=value.\n",
            " |  \n",
            " |  __new__(*args, **kwargs) from builtins.type\n",
            " |      Create and return a new object.  See help(type) for accurate signature.\n",
            " |  \n",
            " |  __repr__(self, /)\n",
            " |      Return repr(self).\n",
            " |  \n",
            " |  __reversed__(...)\n",
            " |      L.__reversed__() -- return a reverse iterator over the list\n",
            " |  \n",
            " |  __rmul__(self, value, /)\n",
            " |      Return value*self.\n",
            " |  \n",
            " |  __setitem__(self, key, value, /)\n",
            " |      Set self[key] to value.\n",
            " |  \n",
            " |  __sizeof__(...)\n",
            " |      L.__sizeof__() -- size of L in memory, in bytes\n",
            " |  \n",
            " |  append(...)\n",
            " |      L.append(object) -> None -- append object to end\n",
            " |  \n",
            " |  clear(...)\n",
            " |      L.clear() -> None -- remove all items from L\n",
            " |  \n",
            " |  copy(...)\n",
            " |      L.copy() -> list -- a shallow copy of L\n",
            " |  \n",
            " |  count(...)\n",
            " |      L.count(value) -> integer -- return number of occurrences of value\n",
            " |  \n",
            " |  extend(...)\n",
            " |      L.extend(iterable) -> None -- extend list by appending elements from the iterable\n",
            " |  \n",
            " |  index(...)\n",
            " |      L.index(value, [start, [stop]]) -> integer -- return first index of value.\n",
            " |      Raises ValueError if the value is not present.\n",
            " |  \n",
            " |  insert(...)\n",
            " |      L.insert(index, object) -- insert object before index\n",
            " |  \n",
            " |  pop(...)\n",
            " |      L.pop([index]) -> item -- remove and return item at index (default last).\n",
            " |      Raises IndexError if list is empty or index is out of range.\n",
            " |  \n",
            " |  remove(...)\n",
            " |      L.remove(value) -> None -- remove first occurrence of value.\n",
            " |      Raises ValueError if the value is not present.\n",
            " |  \n",
            " |  reverse(...)\n",
            " |      L.reverse() -- reverse *IN PLACE*\n",
            " |  \n",
            " |  sort(...)\n",
            " |      L.sort(key=None, reverse=False) -> None -- stable sort *IN PLACE*\n",
            " |  \n",
            " |  ----------------------------------------------------------------------\n",
            " |  Data and other attributes defined here:\n",
            " |  \n",
            " |  __hash__ = None\n",
            "\n"
          ],
          "name": "stdout"
        }
      ]
    },
    {
      "cell_type": "markdown",
      "metadata": {
        "id": "ZTwCiNJyeR23"
      },
      "source": [
        "concept of Aliasing\r\n",
        "A,B points to the same list therefore any change in A reflects in B and vice versa"
      ]
    },
    {
      "cell_type": "code",
      "metadata": {
        "id": "h1sU48N1ebqK"
      },
      "source": [
        "A=[1,2,3,\"listA\"]\r\n",
        "B=A\r\n",
        "A[0]=10"
      ],
      "execution_count": null,
      "outputs": []
    },
    {
      "cell_type": "code",
      "metadata": {
        "colab": {
          "base_uri": "https://localhost:8080/"
        },
        "id": "cr4wye6Wehbo",
        "outputId": "b4ef8cd4-836e-4d97-f18e-582b30a846cf"
      },
      "source": [
        "A"
      ],
      "execution_count": null,
      "outputs": [
        {
          "output_type": "execute_result",
          "data": {
            "text/plain": [
              "[10, 2, 3, 'listA']"
            ]
          },
          "metadata": {
            "tags": []
          },
          "execution_count": 33
        }
      ]
    },
    {
      "cell_type": "code",
      "metadata": {
        "colab": {
          "base_uri": "https://localhost:8080/"
        },
        "id": "Ay5kSHU4ejqb",
        "outputId": "0321ca06-bb04-4cb4-8eb7-b85de653ff4b"
      },
      "source": [
        "B"
      ],
      "execution_count": null,
      "outputs": [
        {
          "output_type": "execute_result",
          "data": {
            "text/plain": [
              "[10, 2, 3, 'listA']"
            ]
          },
          "metadata": {
            "tags": []
          },
          "execution_count": 34
        }
      ]
    },
    {
      "cell_type": "markdown",
      "metadata": {
        "id": "A948KJFmgJL4"
      },
      "source": [
        "Sets unordered have unique elements"
      ]
    },
    {
      "cell_type": "code",
      "metadata": {
        "id": "fA0Hb8h7gKs2"
      },
      "source": [
        "set1={\"java\",\"javascript\",\"c\",\"c++\",\"c#\",\"python\"}"
      ],
      "execution_count": null,
      "outputs": []
    },
    {
      "cell_type": "code",
      "metadata": {
        "colab": {
          "base_uri": "https://localhost:8080/"
        },
        "id": "T0d4upkEgfTO",
        "outputId": "4a83011d-5634-4c1b-e3c8-dca0f5c49756"
      },
      "source": [
        "set2={1,2,3,4,5,6,8,5,5,2}\r\n",
        "set2"
      ],
      "execution_count": null,
      "outputs": [
        {
          "output_type": "execute_result",
          "data": {
            "text/plain": [
              "{1, 2, 3, 4, 5, 6, 8}"
            ]
          },
          "metadata": {
            "tags": []
          },
          "execution_count": 37
        }
      ]
    },
    {
      "cell_type": "code",
      "metadata": {
        "id": "2s8QEJ_mjgKk"
      },
      "source": [
        "list3=[\"mohamed\",\"omar\",\"ahmed\",\"omar\"]"
      ],
      "execution_count": null,
      "outputs": []
    },
    {
      "cell_type": "markdown",
      "metadata": {
        "id": "b9WTDu81jpVd"
      },
      "source": [
        "set function converts a list to a set"
      ]
    },
    {
      "cell_type": "code",
      "metadata": {
        "colab": {
          "base_uri": "https://localhost:8080/"
        },
        "id": "LioSQPbEjpH8",
        "outputId": "8884ac5c-9225-4ce6-9583-fa0d12916582"
      },
      "source": [
        "set(list3)"
      ],
      "execution_count": null,
      "outputs": [
        {
          "output_type": "execute_result",
          "data": {
            "text/plain": [
              "{'ahmed', 'mohamed', 'omar'}"
            ]
          },
          "metadata": {
            "tags": []
          },
          "execution_count": 39
        }
      ]
    },
    {
      "cell_type": "code",
      "metadata": {
        "colab": {
          "base_uri": "https://localhost:8080/"
        },
        "id": "WH34Zh0AkNW1",
        "outputId": "a25fa340-6bc2-48fc-f99a-8e60166abf2c"
      },
      "source": [
        "set1.add(\"abc\")\r\n",
        "set1"
      ],
      "execution_count": null,
      "outputs": [
        {
          "output_type": "execute_result",
          "data": {
            "text/plain": [
              "{'abc', 'c', 'c#', 'c++', 'java', 'javascript', 'python'}"
            ]
          },
          "metadata": {
            "tags": []
          },
          "execution_count": 42
        }
      ]
    },
    {
      "cell_type": "code",
      "metadata": {
        "colab": {
          "base_uri": "https://localhost:8080/"
        },
        "id": "GPXov9M6lBcW",
        "outputId": "fb709630-d536-4351-fec1-32ae245b92f2"
      },
      "source": [
        "set1.remove(\"c#\")\r\n",
        "set1"
      ],
      "execution_count": null,
      "outputs": [
        {
          "output_type": "execute_result",
          "data": {
            "text/plain": [
              "{'abc', 'c++', 'java', 'javascript', 'python'}"
            ]
          },
          "metadata": {
            "tags": []
          },
          "execution_count": 45
        }
      ]
    },
    {
      "cell_type": "markdown",
      "metadata": {
        "id": "mHUU2DcvldE4"
      },
      "source": [
        ""
      ]
    },
    {
      "cell_type": "code",
      "metadata": {
        "colab": {
          "base_uri": "https://localhost:8080/"
        },
        "id": "638cC_uVlVGu",
        "outputId": "5fb86a45-6c79-46b8-ee3f-3dba1d5c9d00"
      },
      "source": [
        "\"abc\" in set1"
      ],
      "execution_count": null,
      "outputs": [
        {
          "output_type": "execute_result",
          "data": {
            "text/plain": [
              "True"
            ]
          },
          "metadata": {
            "tags": []
          },
          "execution_count": 46
        }
      ]
    },
    {
      "cell_type": "markdown",
      "metadata": {
        "id": "e8TaqzfEl35P"
      },
      "source": [
        "intersection of sets"
      ]
    },
    {
      "cell_type": "code",
      "metadata": {
        "colab": {
          "base_uri": "https://localhost:8080/"
        },
        "id": "ZVuvsvnil59L",
        "outputId": "1ef8249f-c460-43ad-9e4a-d7c90ce6709d"
      },
      "source": [
        "set3={\"ahmed\",\"hossam\",\"omar\",\"mohamed\"}\r\n",
        "set4={\"ahmed\",\"rana\",\"karim\",\"mohamed\"}\r\n",
        "set5=set3 & set4\r\n",
        "set5"
      ],
      "execution_count": null,
      "outputs": [
        {
          "output_type": "execute_result",
          "data": {
            "text/plain": [
              "{'ahmed', 'mohamed'}"
            ]
          },
          "metadata": {
            "tags": []
          },
          "execution_count": 47
        }
      ]
    },
    {
      "cell_type": "markdown",
      "metadata": {
        "id": "iEmBlIx9nVW0"
      },
      "source": [
        "union of two sets"
      ]
    },
    {
      "cell_type": "code",
      "metadata": {
        "colab": {
          "base_uri": "https://localhost:8080/"
        },
        "id": "81ZLscbvnIkF",
        "outputId": "1b6da94f-e44f-433e-e120-b04fbec09954"
      },
      "source": [
        "set5=set3.union(set4)\r\n",
        "set5"
      ],
      "execution_count": null,
      "outputs": [
        {
          "output_type": "execute_result",
          "data": {
            "text/plain": [
              "{'ahmed', 'hossam', 'karim', 'mohamed', 'omar', 'rana'}"
            ]
          },
          "metadata": {
            "tags": []
          },
          "execution_count": 48
        }
      ]
    },
    {
      "cell_type": "markdown",
      "metadata": {
        "id": "XGpIxv5MoOoO"
      },
      "source": [
        "subsetting and supersetting"
      ]
    },
    {
      "cell_type": "code",
      "metadata": {
        "colab": {
          "base_uri": "https://localhost:8080/"
        },
        "id": "ckA8VQQlnUzu",
        "outputId": "99a27a83-0f31-4b5b-b4e4-696d6381baae"
      },
      "source": [
        "set6={\"ahmed\",\"hossam\"}\r\n",
        "set6.issubset(set5)"
      ],
      "execution_count": null,
      "outputs": [
        {
          "output_type": "execute_result",
          "data": {
            "text/plain": [
              "True"
            ]
          },
          "metadata": {
            "tags": []
          },
          "execution_count": 52
        }
      ]
    },
    {
      "cell_type": "code",
      "metadata": {
        "colab": {
          "base_uri": "https://localhost:8080/"
        },
        "id": "dcp4al01oT9V",
        "outputId": "eadde891-e3c6-49c9-f1ed-6a3d0bb9cad5"
      },
      "source": [
        "set5.issuperset(set6)"
      ],
      "execution_count": null,
      "outputs": [
        {
          "output_type": "execute_result",
          "data": {
            "text/plain": [
              "True"
            ]
          },
          "metadata": {
            "tags": []
          },
          "execution_count": 53
        }
      ]
    },
    {
      "cell_type": "markdown",
      "metadata": {
        "id": "9N1WxvrCop35"
      },
      "source": [
        "Dictionaries\r\n",
        "key is unique and immutable"
      ]
    },
    {
      "cell_type": "code",
      "metadata": {
        "id": "rPs3r1oxori5"
      },
      "source": [
        "dict1={\"var\":1,\"tuple\":(11,2,3),\"list\":[6,7,\"null\"],\"set\":{\"Rock\",\"pop\"},\"string\":\"name\"}"
      ],
      "execution_count": 54,
      "outputs": []
    },
    {
      "cell_type": "code",
      "metadata": {
        "colab": {
          "base_uri": "https://localhost:8080/"
        },
        "id": "ZADUNkEKp3q1",
        "outputId": "dd68bc11-7a41-4f51-f512-812e984b459d"
      },
      "source": [
        "dict1"
      ],
      "execution_count": 55,
      "outputs": [
        {
          "output_type": "execute_result",
          "data": {
            "text/plain": [
              "{'list': [6, 7, 'null'],\n",
              " 'set': {'Rock', 'pop'},\n",
              " 'string': 'name',\n",
              " 'tuple': (11, 2, 3),\n",
              " 'var': 1}"
            ]
          },
          "metadata": {
            "tags": []
          },
          "execution_count": 55
        }
      ]
    },
    {
      "cell_type": "code",
      "metadata": {
        "colab": {
          "base_uri": "https://localhost:8080/",
          "height": 35
        },
        "id": "faNdrWwLqECv",
        "outputId": "fc1b8c13-1225-4252-fcf1-5b018eb2917d"
      },
      "source": [
        "dict1[\"string\"]"
      ],
      "execution_count": 56,
      "outputs": [
        {
          "output_type": "execute_result",
          "data": {
            "application/vnd.google.colaboratory.intrinsic+json": {
              "type": "string"
            },
            "text/plain": [
              "'name'"
            ]
          },
          "metadata": {
            "tags": []
          },
          "execution_count": 56
        }
      ]
    },
    {
      "cell_type": "code",
      "metadata": {
        "colab": {
          "base_uri": "https://localhost:8080/"
        },
        "id": "sNyLPEtnqJBx",
        "outputId": "15aff6ef-0c2f-4b17-e594-3b2c72753c58"
      },
      "source": [
        "dict1[\"tuple\"]"
      ],
      "execution_count": 57,
      "outputs": [
        {
          "output_type": "execute_result",
          "data": {
            "text/plain": [
              "(11, 2, 3)"
            ]
          },
          "metadata": {
            "tags": []
          },
          "execution_count": 57
        }
      ]
    },
    {
      "cell_type": "markdown",
      "metadata": {
        "id": "yQc-UZyzqw4I"
      },
      "source": [
        "adding element to a dictionary and removing elements"
      ]
    },
    {
      "cell_type": "code",
      "metadata": {
        "id": "liv7la7SqMq-"
      },
      "source": [
        "dict1[\"float\"]=12.5"
      ],
      "execution_count": 59,
      "outputs": []
    },
    {
      "cell_type": "code",
      "metadata": {
        "colab": {
          "base_uri": "https://localhost:8080/"
        },
        "id": "vfyrsP8_quRn",
        "outputId": "7354896e-a515-4b71-fe22-52da9a476b9c"
      },
      "source": [
        "dict1"
      ],
      "execution_count": 60,
      "outputs": [
        {
          "output_type": "execute_result",
          "data": {
            "text/plain": [
              "{'float': 12.5,\n",
              " 'list': [6, 7, 'null'],\n",
              " 'set': {'Rock', 'pop'},\n",
              " 'string': 'name',\n",
              " 'tuple': (11, 2, 3),\n",
              " 'var': 1}"
            ]
          },
          "metadata": {
            "tags": []
          },
          "execution_count": 60
        }
      ]
    },
    {
      "cell_type": "code",
      "metadata": {
        "id": "VzC6e5Nqq39Q"
      },
      "source": [
        "del(dict1[\"var\"])"
      ],
      "execution_count": 61,
      "outputs": []
    },
    {
      "cell_type": "markdown",
      "metadata": {
        "id": "XyZkuF0XrJfL"
      },
      "source": [
        "\"in\" method "
      ]
    },
    {
      "cell_type": "code",
      "metadata": {
        "colab": {
          "base_uri": "https://localhost:8080/"
        },
        "id": "XWEgkd11q-_7",
        "outputId": "d23a10d6-b47c-410c-89b3-a90650306229"
      },
      "source": [
        "dict1"
      ],
      "execution_count": 62,
      "outputs": [
        {
          "output_type": "execute_result",
          "data": {
            "text/plain": [
              "{'float': 12.5,\n",
              " 'list': [6, 7, 'null'],\n",
              " 'set': {'Rock', 'pop'},\n",
              " 'string': 'name',\n",
              " 'tuple': (11, 2, 3)}"
            ]
          },
          "metadata": {
            "tags": []
          },
          "execution_count": 62
        }
      ]
    },
    {
      "cell_type": "code",
      "metadata": {
        "colab": {
          "base_uri": "https://localhost:8080/"
        },
        "id": "aWX67-BurCDV",
        "outputId": "00c1c25f-6269-464a-b140-cf0d95146251"
      },
      "source": [
        "\"list\" in dict1"
      ],
      "execution_count": 63,
      "outputs": [
        {
          "output_type": "execute_result",
          "data": {
            "text/plain": [
              "True"
            ]
          },
          "metadata": {
            "tags": []
          },
          "execution_count": 63
        }
      ]
    },
    {
      "cell_type": "code",
      "metadata": {
        "colab": {
          "base_uri": "https://localhost:8080/"
        },
        "id": "3rcskMuTrUbn",
        "outputId": "181e3e31-ad1c-40cf-d64c-4cad59ced47c"
      },
      "source": [
        "\"abs\" in dict1"
      ],
      "execution_count": 64,
      "outputs": [
        {
          "output_type": "execute_result",
          "data": {
            "text/plain": [
              "False"
            ]
          },
          "metadata": {
            "tags": []
          },
          "execution_count": 64
        }
      ]
    },
    {
      "cell_type": "markdown",
      "metadata": {
        "id": "9OiQEt_Ireox"
      },
      "source": [
        "getting values and keys"
      ]
    },
    {
      "cell_type": "code",
      "metadata": {
        "colab": {
          "base_uri": "https://localhost:8080/"
        },
        "id": "TjnW3fUcrZSg",
        "outputId": "410ecf6c-23ee-4022-bca2-b76fc976d24d"
      },
      "source": [
        "dict1.values()"
      ],
      "execution_count": 66,
      "outputs": [
        {
          "output_type": "execute_result",
          "data": {
            "text/plain": [
              "dict_values([(11, 2, 3), [6, 7, 'null'], {'Rock', 'pop'}, 'name', 12.5])"
            ]
          },
          "metadata": {
            "tags": []
          },
          "execution_count": 66
        }
      ]
    },
    {
      "cell_type": "code",
      "metadata": {
        "colab": {
          "base_uri": "https://localhost:8080/"
        },
        "id": "GjjowRs6rpUQ",
        "outputId": "8fc42673-a800-485c-d24e-98d7db3490f8"
      },
      "source": [
        "dict1.keys()"
      ],
      "execution_count": 67,
      "outputs": [
        {
          "output_type": "execute_result",
          "data": {
            "text/plain": [
              "dict_keys(['tuple', 'list', 'set', 'string', 'float'])"
            ]
          },
          "metadata": {
            "tags": []
          },
          "execution_count": 67
        }
      ]
    },
    {
      "cell_type": "markdown",
      "metadata": {
        "id": "J3ShWJNasZqp"
      },
      "source": [
        "note we can use keys as tuples,lists,integers,--etc. as well"
      ]
    },
    {
      "cell_type": "code",
      "metadata": {
        "id": "mlQC5GCDsoJ8"
      },
      "source": [
        "dict1[(1,0)]=12"
      ],
      "execution_count": 68,
      "outputs": []
    },
    {
      "cell_type": "code",
      "metadata": {
        "colab": {
          "base_uri": "https://localhost:8080/"
        },
        "id": "_Q8QY-H9tJ0Y",
        "outputId": "e1a3003e-94c2-4738-afc7-675f0dd37a8d"
      },
      "source": [
        "dict1"
      ],
      "execution_count": 69,
      "outputs": [
        {
          "output_type": "execute_result",
          "data": {
            "text/plain": [
              "{(1, 0): 12,\n",
              " 'float': 12.5,\n",
              " 'list': [6, 7, 'null'],\n",
              " 'set': {'Rock', 'pop'},\n",
              " 'string': 'name',\n",
              " 'tuple': (11, 2, 3)}"
            ]
          },
          "metadata": {
            "tags": []
          },
          "execution_count": 69
        }
      ]
    }
  ]
}